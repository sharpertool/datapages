{
 "cells": [
  {
   "cell_type": "code",
   "execution_count": 2,
   "metadata": {
    "collapsed": true
   },
   "outputs": [],
   "source": [
    "import requests"
   ]
  },
  {
   "cell_type": "code",
   "execution_count": 6,
   "metadata": {},
   "outputs": [],
   "source": [
    "params = {'api_key': '61357d688a9d597ac1052a', 'url':\"https://cloud.highcharts.com/show/Hyr1q-mYG\"}\n",
    "api_url = 'http://iframe.ly/api/oembed'\n",
    "r = requests.get(api_url, params=params)"
   ]
  },
  {
   "cell_type": "code",
   "execution_count": 7,
   "metadata": {},
   "outputs": [
    {
     "data": {
      "text/plain": [
       "<Response [200]>"
      ]
     },
     "execution_count": 7,
     "metadata": {},
     "output_type": "execute_result"
    }
   ],
   "source": [
    "r"
   ]
  },
  {
   "cell_type": "code",
   "execution_count": 8,
   "metadata": {},
   "outputs": [
    {
     "data": {
      "text/plain": [
       "['__attrs__',\n '__bool__',\n '__class__',\n '__delattr__',\n '__dict__',\n '__dir__',\n '__doc__',\n '__enter__',\n '__eq__',\n '__exit__',\n '__format__',\n '__ge__',\n '__getattribute__',\n '__getstate__',\n '__gt__',\n '__hash__',\n '__init__',\n '__init_subclass__',\n '__iter__',\n '__le__',\n '__lt__',\n '__module__',\n '__ne__',\n '__new__',\n '__nonzero__',\n '__reduce__',\n '__reduce_ex__',\n '__repr__',\n '__setattr__',\n '__setstate__',\n '__sizeof__',\n '__str__',\n '__subclasshook__',\n '__weakref__',\n '_content',\n '_content_consumed',\n '_next',\n 'apparent_encoding',\n 'close',\n 'connection',\n 'content',\n 'cookies',\n 'elapsed',\n 'encoding',\n 'headers',\n 'history',\n 'is_permanent_redirect',\n 'is_redirect',\n 'iter_content',\n 'iter_lines',\n 'json',\n 'links',\n 'next',\n 'ok',\n 'raise_for_status',\n 'raw',\n 'reason',\n 'request',\n 'status_code',\n 'text',\n 'url']"
      ]
     },
     "execution_count": 8,
     "metadata": {},
     "output_type": "execute_result"
    }
   ],
   "source": [
    "dir(r)"
   ]
  },
  {
   "cell_type": "code",
   "execution_count": 9,
   "metadata": {},
   "outputs": [
    {
     "data": {
      "text/plain": [
       "{'cache_age': 86400,\n 'height': 500,\n 'html': '<div class=\"iframely-embed\"><div class=\"iframely-responsive\" style=\"height: 500px; padding-bottom: 0;\"><a href=\"https://cloud.highcharts.com/embed/Hyr1q-mYG/\" data-iframely-url=\"//cdn.iframe.ly/api/iframe?url=https%3A%2F%2Fcloud.highcharts.com%2Fshow%2FHyr1q-mYG&amp;key=67569520e7213a159972b9d90d836b41\"></a></div></div><script async src=\"//cdn.iframe.ly/embed.js\" charset=\"utf-8\"></script>',\n 'thumbnail_height': 400,\n 'thumbnail_url': 'https://cloud.highcharts.com/thumbnails/Hyr1q-mYG.png',\n 'thumbnail_width': 600,\n 'title': 'TE Connectivity',\n 'type': 'rich',\n 'url': 'https://cloud.highcharts.com/embed/Hyr1q-mYG/',\n 'version': '1.0'}"
      ]
     },
     "execution_count": 9,
     "metadata": {},
     "output_type": "execute_result"
    }
   ],
   "source": [
    "r2 = r.json()\n",
    "r2"
   ]
  },
  {
   "cell_type": "code",
   "execution_count": 12,
   "metadata": {},
   "outputs": [
    {
     "data": {
      "text/plain": [
       "{'height': 500,\n 'html': '<div class=\"iframely-embed\"><div class=\"iframely-responsive\" style=\"height: 500px; padding-bottom: 0;\"><a href=\"https://cloud.highcharts.com/embed/Hyr1q-mYG/\" data-iframely-url=\"//cdn.iframe.ly/api/iframe?url=https%3A%2F%2Fcloud.highcharts.com%2Fshow%2FHyr1q-mYG&amp;key=67569520e7213a159972b9d90d836b41\"></a></div></div><script async src=\"//cdn.iframe.ly/embed.js\" charset=\"utf-8\"></script>',\n 'thumbnail_height': 400,\n 'thumbnail_url': 'https://cloud.highcharts.com/thumbnails/Hyr1q-mYG.png',\n 'thumbnail_width': 600,\n 'title': 'TE Connectivity',\n 'type': 'rich',\n 'version': '1.0'}"
      ]
     },
     "execution_count": 12,
     "metadata": {},
     "output_type": "execute_result"
    }
   ],
   "source": [
    "selkeys = ['title', 'author_name', \n",
    "           'provider_name', 'type', \n",
    "           'thumbnail_url', 'thumbnail_height', 'thumbnail_width', \n",
    "           'width', 'height', 'html', 'version']\n",
    "rf = {k: v for k, v in r.json().items() if k in selkeys}\n",
    "rf"
   ]
  },
  {
   "cell_type": "code",
   "execution_count": null,
   "metadata": {},
   "outputs": [],
   "source": []
  }
 ],
 "metadata": {
  "kernelspec": {
   "display_name": "Python 2",
   "language": "python",
   "name": "python2"
  },
  "language_info": {
   "codemirror_mode": {
    "name": "ipython",
    "version": 2
   },
   "file_extension": ".py",
   "mimetype": "text/x-python",
   "name": "python",
   "nbconvert_exporter": "python",
   "pygments_lexer": "ipython2",
   "version": "2.7.6"
  }
 },
 "nbformat": 4,
 "nbformat_minor": 0
}
