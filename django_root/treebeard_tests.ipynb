{
 "cells": [
  {
   "cell_type": "code",
   "execution_count": 1,
   "metadata": {},
   "outputs": [],
   "source": [
    "from microchip.models import SheetPage\n",
    "get = lambda node_id: SheetPage.objects.get(pk=node_id)"
   ]
  },
  {
   "cell_type": "code",
   "execution_count": 2,
   "metadata": {},
   "outputs": [],
   "source": [
    "pages = SheetPage.objects.all()"
   ]
  },
  {
   "cell_type": "code",
   "execution_count": 3,
   "metadata": {},
   "outputs": [
    {
     "data": {
      "text/plain": [
       "2"
      ]
     },
     "execution_count": 3,
     "metadata": {},
     "output_type": "execute_result"
    }
   ],
   "source": [
    "len(pages)"
   ]
  },
  {
   "cell_type": "code",
   "execution_count": 4,
   "metadata": {},
   "outputs": [
    {
     "name": "stdout",
     "output_type": "stream",
     "text": [
      "Child countt 4\n",
      "More stuff\n"
     ]
    }
   ],
   "source": [
    "sheet = SheetPage.objects.filter(slug='dspic33ch128mp508-family-r2')\n",
    "ds=sheet[0]\n",
    "print(f\"Child countt {ds.numchild}\")\n",
    "print(f\"More stuff\")"
   ]
  },
  {
   "cell_type": "code",
   "execution_count": 5,
   "metadata": {},
   "outputs": [
    {
     "name": "stdout",
     "output_type": "stream",
     "text": [
      "Number of children 4\n"
     ]
    }
   ],
   "source": [
    "c = ds.get_children()\n",
    "print(f\"Number of children {len(c)}\")"
   ]
  },
  {
   "cell_type": "code",
   "execution_count": 6,
   "metadata": {},
   "outputs": [
    {
     "data": {
      "text/plain": [
       "['sub-sheet-page',\n",
       " 'master-modules',\n",
       " 'device-overview',\n",
       " 'guidelines-getting-started-16-bit-digital-signal-controllers']"
      ]
     },
     "execution_count": 6,
     "metadata": {},
     "output_type": "execute_result"
    }
   ],
   "source": [
    "[p.slug for p in c]"
   ]
  },
  {
   "cell_type": "code",
   "execution_count": 7,
   "metadata": {},
   "outputs": [
    {
     "data": {
      "text/plain": [
       "<SheetPage: dsPIC33CH128MP508 Family R2>"
      ]
     },
     "execution_count": 7,
     "metadata": {},
     "output_type": "execute_result"
    }
   ],
   "source": [
    "get(ds.pk)"
   ]
  },
  {
   "cell_type": "code",
   "execution_count": 8,
   "metadata": {},
   "outputs": [
    {
     "data": {
      "text/plain": [
       "<PageQuerySet [<Page: Root>, <Page: Home>, <Page: TE Connectivity>, <Page: V23717A0002A200>, <Page: V23717A0002A200-R2>, <Page: Panasonic>, <Page: Pressure Sensor>, <Page: TV-10/TV-15 Power HE Relay>, <Page: ESE-16 Detector Switches>, <Page: Sager Electronics>, <Page: Solid Polymer Aluminum Surface Mount Capacitors>, <Page: 25 Watt Enclosed Power Supply>, <Page: Avnet>, <Page: 18VPP OUTPUT PIEZO SOUNDER DRIVER>, <Page: On Semiconductor>, <Page: High-Dynamic Range (HDR)>, <Page: TDK Epcos>, <Page: CeraLink>, <Page: Microchip>, <Page: dsPIC33CH128MP508 Family R2>, '...(remaining elements truncated)...']>"
      ]
     },
     "execution_count": 8,
     "metadata": {},
     "output_type": "execute_result"
    }
   ],
   "source": [
    "ds.get_tree()"
   ]
  },
  {
   "cell_type": "code",
   "execution_count": 9,
   "metadata": {},
   "outputs": [
    {
     "data": {
      "text/plain": [
       "4"
      ]
     },
     "execution_count": 9,
     "metadata": {},
     "output_type": "execute_result"
    }
   ],
   "source": [
    "ds.get_depth()"
   ]
  },
  {
   "cell_type": "code",
   "execution_count": 10,
   "metadata": {},
   "outputs": [
    {
     "data": {
      "text/plain": [
       "<PageQuerySet [<Page: 4.0 Slave Modules>, <Page: 3.0 Master Modules>, <Page: Master CPU>, <Page: Registers>, <Page: 1.0 Device Overview>, <Page: 2.0 Guidelines for Getting Started with 16-Bit Digital Signal Controllers>, <Page: 2.1 Basic Connection Requirements>, <Page: 2.2 Decoupling Capacitors>, <Page: 2.3 Master Clear (MCLR) Pin>, <Page: 2.4 ICSP Pins>, <Page: External Oscillator Pins>, <Page: 2.6 Oscillator Value Conditions on Device Start-up>]>"
      ]
     },
     "execution_count": 10,
     "metadata": {},
     "output_type": "execute_result"
    }
   ],
   "source": [
    "ds.get_descendants()"
   ]
  },
  {
   "cell_type": "code",
   "execution_count": 11,
   "metadata": {
    "scrolled": true
   },
   "outputs": [
    {
     "data": {
      "text/plain": [
       "<PageQuerySet [<Page: 1.0 Device Overview>, <Page: 2.0 Guidelines for Getting Started with 16-Bit Digital Signal Controllers>, <Page: 3.0 Master Modules>, <Page: 4.0 Slave Modules>]>"
      ]
     },
     "execution_count": 11,
     "metadata": {},
     "output_type": "execute_result"
    }
   ],
   "source": [
    "ds_c = ds.get_children().order_by('title')\n",
    "ds_c\n"
   ]
  },
  {
   "cell_type": "code",
   "execution_count": 12,
   "metadata": {},
   "outputs": [
    {
     "data": {
      "text/plain": [
       "<Page: 4.0 Slave Modules>"
      ]
     },
     "execution_count": 12,
     "metadata": {},
     "output_type": "execute_result"
    }
   ],
   "source": [
    "ds.get_first_child()"
   ]
  },
  {
   "cell_type": "code",
   "execution_count": 13,
   "metadata": {},
   "outputs": [
    {
     "data": {
      "text/plain": [
       "<Page: 2.0 Guidelines for Getting Started with 16-Bit Digital Signal Controllers>"
      ]
     },
     "execution_count": 13,
     "metadata": {},
     "output_type": "execute_result"
    }
   ],
   "source": [
    "ds.get_last_child()"
   ]
  },
  {
   "cell_type": "code",
   "execution_count": 14,
   "metadata": {
    "scrolled": true
   },
   "outputs": [
    {
     "data": {
      "text/plain": [
       "'1.0 Device Overview'"
      ]
     },
     "execution_count": 14,
     "metadata": {},
     "output_type": "execute_result"
    }
   ],
   "source": [
    "ds_c[0].title"
   ]
  },
  {
   "cell_type": "code",
   "execution_count": 15,
   "metadata": {},
   "outputs": [
    {
     "data": {
      "text/plain": [
       "5"
      ]
     },
     "execution_count": 15,
     "metadata": {},
     "output_type": "execute_result"
    }
   ],
   "source": [
    "ds_c[0].specific.get_depth()"
   ]
  },
  {
   "cell_type": "code",
   "execution_count": 16,
   "metadata": {},
   "outputs": [
    {
     "data": {
      "text/plain": [
       "<PageQuerySet []>"
      ]
     },
     "execution_count": 16,
     "metadata": {},
     "output_type": "execute_result"
    }
   ],
   "source": [
    "ds_c[0].specific.get_children()"
   ]
  },
  {
   "cell_type": "code",
   "execution_count": 17,
   "metadata": {},
   "outputs": [
    {
     "data": {
      "text/plain": [
       "[(<Page: Root>, {'open': True, 'close': [], 'level': 0}),\n",
       " (<Page: Home>, {'open': True, 'close': [], 'level': 1}),\n",
       " (<Page: TE Connectivity>, {'open': True, 'close': [], 'level': 2}),\n",
       " (<Page: V23717A0002A200>, {'open': True, 'close': [], 'level': 3}),\n",
       " (<Page: V23717A0002A200-R2>, {'open': False, 'close': [0], 'level': 3}),\n",
       " (<Page: Panasonic>, {'open': False, 'close': [], 'level': 2}),\n",
       " (<Page: Pressure Sensor>, {'open': True, 'close': [], 'level': 3}),\n",
       " (<Page: TV-10/TV-15 Power HE Relay>,\n",
       "  {'open': False, 'close': [], 'level': 3}),\n",
       " (<Page: ESE-16 Detector Switches>, {'open': False, 'close': [0], 'level': 3}),\n",
       " (<Page: Sager Electronics>, {'open': False, 'close': [], 'level': 2}),\n",
       " (<Page: Solid Polymer Aluminum Surface Mount Capacitors>,\n",
       "  {'open': True, 'close': [], 'level': 3}),\n",
       " (<Page: 25 Watt Enclosed Power Supply>,\n",
       "  {'open': False, 'close': [0], 'level': 3}),\n",
       " (<Page: Avnet>, {'open': False, 'close': [], 'level': 2}),\n",
       " (<Page: 18VPP OUTPUT PIEZO SOUNDER DRIVER>,\n",
       "  {'open': True, 'close': [0], 'level': 3}),\n",
       " (<Page: On Semiconductor>, {'open': False, 'close': [], 'level': 2}),\n",
       " (<Page: High-Dynamic Range (HDR)>, {'open': True, 'close': [0], 'level': 3}),\n",
       " (<Page: TDK Epcos>, {'open': False, 'close': [], 'level': 2}),\n",
       " (<Page: CeraLink>, {'open': True, 'close': [0], 'level': 3}),\n",
       " (<Page: Microchip>, {'open': False, 'close': [], 'level': 2}),\n",
       " (<Page: dsPIC33CH128MP508 Family R2>,\n",
       "  {'open': True, 'close': [], 'level': 3}),\n",
       " (<Page: 4.0 Slave Modules>, {'open': True, 'close': [], 'level': 4}),\n",
       " (<Page: 3.0 Master Modules>, {'open': False, 'close': [], 'level': 4}),\n",
       " (<Page: Master CPU>, {'open': True, 'close': [], 'level': 5}),\n",
       " (<Page: Registers>, {'open': True, 'close': [0, 1], 'level': 6}),\n",
       " (<Page: 1.0 Device Overview>, {'open': False, 'close': [], 'level': 4}),\n",
       " (<Page: 2.0 Guidelines for Getting Started with 16-Bit Digital Signal Controllers>,\n",
       "  {'open': False, 'close': [], 'level': 4}),\n",
       " (<Page: 2.1 Basic Connection Requirements>,\n",
       "  {'open': True, 'close': [], 'level': 5}),\n",
       " (<Page: 2.2 Decoupling Capacitors>, {'open': False, 'close': [], 'level': 5}),\n",
       " (<Page: 2.3 Master Clear (MCLR) Pin>,\n",
       "  {'open': False, 'close': [], 'level': 5}),\n",
       " (<Page: 2.4 ICSP Pins>, {'open': False, 'close': [], 'level': 5}),\n",
       " (<Page: External Oscillator Pins>, {'open': False, 'close': [], 'level': 5}),\n",
       " (<Page: 2.6 Oscillator Value Conditions on Device Start-up>,\n",
       "  {'open': False, 'close': [0, 1], 'level': 5}),\n",
       " (<Page: dsPIC33CH128MP508 Family>,\n",
       "  {'open': False, 'close': [0, 1, 2, 3], 'level': 3})]"
      ]
     },
     "execution_count": 17,
     "metadata": {},
     "output_type": "execute_result"
    }
   ],
   "source": [
    "ds.get_annotated_list()"
   ]
  },
  {
   "cell_type": "code",
   "execution_count": 18,
   "metadata": {},
   "outputs": [
    {
     "data": {
      "text/plain": [
       "[]"
      ]
     },
     "execution_count": 18,
     "metadata": {},
     "output_type": "execute_result"
    }
   ],
   "source": [
    "ds.node_order_by"
   ]
  },
  {
   "cell_type": "code",
   "execution_count": 19,
   "metadata": {},
   "outputs": [
    {
     "data": {
      "text/plain": [
       "<PageQuerySet [<Page: Root>, <Page: Home>, <Page: TE Connectivity>, <Page: V23717A0002A200>, <Page: V23717A0002A200-R2>, <Page: Panasonic>, <Page: Pressure Sensor>, <Page: TV-10/TV-15 Power HE Relay>, <Page: ESE-16 Detector Switches>, <Page: Sager Electronics>, <Page: Solid Polymer Aluminum Surface Mount Capacitors>, <Page: 25 Watt Enclosed Power Supply>, <Page: Avnet>, <Page: 18VPP OUTPUT PIEZO SOUNDER DRIVER>, <Page: On Semiconductor>, <Page: High-Dynamic Range (HDR)>, <Page: TDK Epcos>, <Page: CeraLink>, <Page: Microchip>, <Page: dsPIC33CH128MP508 Family R2>, '...(remaining elements truncated)...']>"
      ]
     },
     "execution_count": 19,
     "metadata": {},
     "output_type": "execute_result"
    }
   ],
   "source": [
    "ds.get_tree()"
   ]
  },
  {
   "cell_type": "code",
   "execution_count": 20,
   "metadata": {},
   "outputs": [
    {
     "data": {
      "text/plain": [
       "([], [], [], [], [])"
      ]
     },
     "execution_count": 20,
     "metadata": {},
     "output_type": "execute_result"
    }
   ],
   "source": [
    "ds.find_problems()"
   ]
  },
  {
   "cell_type": "code",
   "execution_count": 23,
   "metadata": {},
   "outputs": [
    {
     "data": {
      "text/plain": [
       "[{'data': OrderedDict([('title', 'Root'),\n",
       "               ('draft_title', 'Root'),\n",
       "               ('slug', 'root'),\n",
       "               ('content_type', 1),\n",
       "               ('live', True),\n",
       "               ('has_unpublished_changes', False),\n",
       "               ('url_path', '/'),\n",
       "               ('owner', None),\n",
       "               ('seo_title', ''),\n",
       "               ('show_in_menus', False),\n",
       "               ('search_description', ''),\n",
       "               ('go_live_at', None),\n",
       "               ('expire_at', None),\n",
       "               ('expired', False),\n",
       "               ('locked', False),\n",
       "               ('first_published_at', None),\n",
       "               ('last_published_at', None),\n",
       "               ('latest_revision_created_at', None),\n",
       "               ('live_revision', None)]),\n",
       "  'id': 1,\n",
       "  'children': [{'data': OrderedDict([('title', 'Home'),\n",
       "                 ('draft_title', 'Home'),\n",
       "                 ('slug', 'home'),\n",
       "                 ('content_type', 2),\n",
       "                 ('live', True),\n",
       "                 ('has_unpublished_changes', False),\n",
       "                 ('url_path', '/home/'),\n",
       "                 ('owner', None),\n",
       "                 ('seo_title', ''),\n",
       "                 ('show_in_menus', False),\n",
       "                 ('search_description', ''),\n",
       "                 ('go_live_at', None),\n",
       "                 ('expire_at', None),\n",
       "                 ('expired', False),\n",
       "                 ('locked', False),\n",
       "                 ('first_published_at',\n",
       "                  datetime.datetime(2017, 7, 12, 1, 19, 29, 309683, tzinfo=<UTC>)),\n",
       "                 ('last_published_at',\n",
       "                  datetime.datetime(2018, 4, 6, 0, 26, 36, 922658, tzinfo=<UTC>)),\n",
       "                 ('latest_revision_created_at',\n",
       "                  datetime.datetime(2018, 4, 6, 0, 26, 36, 902642, tzinfo=<UTC>)),\n",
       "                 ('live_revision', 100)]),\n",
       "    'id': 3,\n",
       "    'children': [{'data': OrderedDict([('title', 'TE Connectivity'),\n",
       "                   ('draft_title', 'TE Connectivity'),\n",
       "                   ('slug', 'te-connectivity2'),\n",
       "                   ('content_type', 41),\n",
       "                   ('live', True),\n",
       "                   ('has_unpublished_changes', False),\n",
       "                   ('url_path', '/home/te-connectivity2/'),\n",
       "                   ('owner', 1),\n",
       "                   ('seo_title', ''),\n",
       "                   ('show_in_menus', False),\n",
       "                   ('search_description', ''),\n",
       "                   ('go_live_at', None),\n",
       "                   ('expire_at', None),\n",
       "                   ('expired', False),\n",
       "                   ('locked', False),\n",
       "                   ('first_published_at',\n",
       "                    datetime.datetime(2018, 4, 17, 14, 2, 0, 112426, tzinfo=<UTC>)),\n",
       "                   ('last_published_at',\n",
       "                    datetime.datetime(2018, 4, 17, 14, 9, 41, 525674, tzinfo=<UTC>)),\n",
       "                   ('latest_revision_created_at',\n",
       "                    datetime.datetime(2018, 4, 17, 14, 9, 41, 497895, tzinfo=<UTC>)),\n",
       "                   ('live_revision', 117)]),\n",
       "      'id': 20,\n",
       "      'children': [{'data': OrderedDict([('title', 'V23717A0002A200'),\n",
       "                     ('draft_title', 'V23717A0002A200'),\n",
       "                     ('slug', 'v23717a0002a200'),\n",
       "                     ('content_type', 42),\n",
       "                     ('live', True),\n",
       "                     ('has_unpublished_changes', False),\n",
       "                     ('url_path', '/home/te-connectivity2/v23717a0002a200/'),\n",
       "                     ('owner', 1),\n",
       "                     ('seo_title', ''),\n",
       "                     ('show_in_menus', False),\n",
       "                     ('search_description', ''),\n",
       "                     ('go_live_at', None),\n",
       "                     ('expire_at', None),\n",
       "                     ('expired', False),\n",
       "                     ('locked', False),\n",
       "                     ('first_published_at',\n",
       "                      datetime.datetime(2018, 4, 17, 14, 6, 5, 831338, tzinfo=<UTC>)),\n",
       "                     ('last_published_at',\n",
       "                      datetime.datetime(2018, 5, 14, 6, 12, 28, 120288, tzinfo=<UTC>)),\n",
       "                     ('latest_revision_created_at',\n",
       "                      datetime.datetime(2018, 5, 14, 6, 12, 28, 92711, tzinfo=<UTC>)),\n",
       "                     ('live_revision', 152)]),\n",
       "        'id': 21},\n",
       "       {'data': OrderedDict([('title', 'V23717A0002A200-R2'),\n",
       "                     ('draft_title', 'V23717A0002A200-R2'),\n",
       "                     ('slug', 'v23717a0002a200r2'),\n",
       "                     ('content_type', 42),\n",
       "                     ('live', True),\n",
       "                     ('has_unpublished_changes', False),\n",
       "                     ('url_path', '/home/te-connectivity2/v23717a0002a200r2/'),\n",
       "                     ('owner', 1),\n",
       "                     ('seo_title', ''),\n",
       "                     ('show_in_menus', False),\n",
       "                     ('search_description', ''),\n",
       "                     ('go_live_at', None),\n",
       "                     ('expire_at', None),\n",
       "                     ('expired', False),\n",
       "                     ('locked', False),\n",
       "                     ('first_published_at',\n",
       "                      datetime.datetime(2018, 4, 26, 1, 8, 16, 701036, tzinfo=<UTC>)),\n",
       "                     ('last_published_at',\n",
       "                      datetime.datetime(2018, 5, 14, 6, 13, 0, 943258, tzinfo=<UTC>)),\n",
       "                     ('latest_revision_created_at',\n",
       "                      datetime.datetime(2018, 5, 14, 6, 13, 0, 910811, tzinfo=<UTC>)),\n",
       "                     ('live_revision', 153)]),\n",
       "        'id': 24}]},\n",
       "     {'data': OrderedDict([('title', 'Panasonic'),\n",
       "                   ('draft_title', 'Panasonic'),\n",
       "                   ('slug', 'panasonic'),\n",
       "                   ('content_type', 45),\n",
       "                   ('live', True),\n",
       "                   ('has_unpublished_changes', False),\n",
       "                   ('url_path', '/home/panasonic/'),\n",
       "                   ('owner', 1),\n",
       "                   ('seo_title', ''),\n",
       "                   ('show_in_menus', False),\n",
       "                   ('search_description', ''),\n",
       "                   ('go_live_at', None),\n",
       "                   ('expire_at', None),\n",
       "                   ('expired', False),\n",
       "                   ('locked', False),\n",
       "                   ('first_published_at',\n",
       "                    datetime.datetime(2018, 4, 18, 22, 54, 17, 379851, tzinfo=<UTC>)),\n",
       "                   ('last_published_at',\n",
       "                    datetime.datetime(2018, 4, 18, 23, 4, 39, 478696, tzinfo=<UTC>)),\n",
       "                   ('latest_revision_created_at',\n",
       "                    datetime.datetime(2018, 4, 18, 23, 4, 39, 452818, tzinfo=<UTC>)),\n",
       "                   ('live_revision', 120)]),\n",
       "      'id': 22,\n",
       "      'children': [{'data': OrderedDict([('title', 'Pressure Sensor'),\n",
       "                     ('draft_title', 'Pressure Sensor'),\n",
       "                     ('slug', 'pressure-sensor'),\n",
       "                     ('content_type', 47),\n",
       "                     ('live', True),\n",
       "                     ('has_unpublished_changes', False),\n",
       "                     ('url_path', '/home/panasonic/pressure-sensor/'),\n",
       "                     ('owner', 1),\n",
       "                     ('seo_title', ''),\n",
       "                     ('show_in_menus', False),\n",
       "                     ('search_description', ''),\n",
       "                     ('go_live_at', None),\n",
       "                     ('expire_at', None),\n",
       "                     ('expired', False),\n",
       "                     ('locked', False),\n",
       "                     ('first_published_at',\n",
       "                      datetime.datetime(2018, 4, 18, 22, 57, 5, 151783, tzinfo=<UTC>)),\n",
       "                     ('last_published_at',\n",
       "                      datetime.datetime(2018, 4, 18, 23, 56, 10, 884532, tzinfo=<UTC>)),\n",
       "                     ('latest_revision_created_at',\n",
       "                      datetime.datetime(2018, 4, 18, 23, 56, 10, 863597, tzinfo=<UTC>)),\n",
       "                     ('live_revision', 122)]),\n",
       "        'id': 23},\n",
       "       {'data': OrderedDict([('title', 'TV-10/TV-15 Power HE Relay'),\n",
       "                     ('draft_title', 'TV-10/TV-15 Power HE Relay'),\n",
       "                     ('slug', 'tv-10tv-15-power-he-relay'),\n",
       "                     ('content_type', 47),\n",
       "                     ('live', False),\n",
       "                     ('has_unpublished_changes', True),\n",
       "                     ('url_path',\n",
       "                      '/home/panasonic/tv-10tv-15-power-he-relay/'),\n",
       "                     ('owner', 1),\n",
       "                     ('seo_title', ''),\n",
       "                     ('show_in_menus', False),\n",
       "                     ('search_description', ''),\n",
       "                     ('go_live_at', None),\n",
       "                     ('expire_at', None),\n",
       "                     ('expired', False),\n",
       "                     ('locked', False),\n",
       "                     ('first_published_at', None),\n",
       "                     ('last_published_at', None),\n",
       "                     ('latest_revision_created_at',\n",
       "                      datetime.datetime(2018, 5, 2, 22, 39, 44, 185954, tzinfo=<UTC>)),\n",
       "                     ('live_revision', None)]),\n",
       "        'id': 25},\n",
       "       {'data': OrderedDict([('title', 'ESE-16 Detector Switches'),\n",
       "                     ('draft_title', 'ESE-16 Detector Switches'),\n",
       "                     ('slug', 'ese16-detector-switches'),\n",
       "                     ('content_type', 47),\n",
       "                     ('live', True),\n",
       "                     ('has_unpublished_changes', False),\n",
       "                     ('url_path', '/home/panasonic/ese16-detector-switches/'),\n",
       "                     ('owner', 1),\n",
       "                     ('seo_title', ''),\n",
       "                     ('show_in_menus', False),\n",
       "                     ('search_description', ''),\n",
       "                     ('go_live_at', None),\n",
       "                     ('expire_at', None),\n",
       "                     ('expired', False),\n",
       "                     ('locked', False),\n",
       "                     ('first_published_at',\n",
       "                      datetime.datetime(2018, 5, 14, 5, 59, 36, 202393, tzinfo=<UTC>)),\n",
       "                     ('last_published_at',\n",
       "                      datetime.datetime(2018, 5, 14, 21, 7, 43, 525696, tzinfo=<UTC>)),\n",
       "                     ('latest_revision_created_at',\n",
       "                      datetime.datetime(2018, 5, 14, 21, 7, 43, 495829, tzinfo=<UTC>)),\n",
       "                     ('live_revision', 178)]),\n",
       "        'id': 26}]},\n",
       "     {'data': OrderedDict([('title', 'Sager Electronics'),\n",
       "                   ('draft_title', 'Sager Electronics'),\n",
       "                   ('slug', 'sager-electronics'),\n",
       "                   ('content_type', 53),\n",
       "                   ('live', True),\n",
       "                   ('has_unpublished_changes', False),\n",
       "                   ('url_path', '/home/sager-electronics/'),\n",
       "                   ('owner', 1),\n",
       "                   ('seo_title', ''),\n",
       "                   ('show_in_menus', False),\n",
       "                   ('search_description', ''),\n",
       "                   ('go_live_at', None),\n",
       "                   ('expire_at', None),\n",
       "                   ('expired', False),\n",
       "                   ('locked', False),\n",
       "                   ('first_published_at',\n",
       "                    datetime.datetime(2018, 5, 21, 15, 6, 13, 421787, tzinfo=<UTC>)),\n",
       "                   ('last_published_at',\n",
       "                    datetime.datetime(2018, 5, 21, 15, 6, 13, 421787, tzinfo=<UTC>)),\n",
       "                   ('latest_revision_created_at',\n",
       "                    datetime.datetime(2018, 5, 21, 15, 6, 13, 403751, tzinfo=<UTC>)),\n",
       "                   ('live_revision', 179)]),\n",
       "      'id': 27,\n",
       "      'children': [{'data': OrderedDict([('title',\n",
       "                      'Solid Polymer Aluminum Surface Mount Capacitors'),\n",
       "                     ('draft_title',\n",
       "                      'Solid Polymer Aluminum Surface Mount Capacitors'),\n",
       "                     ('slug',\n",
       "                      'solid-polymer-aluminum-surface-mount-capacitors'),\n",
       "                     ('content_type', 52),\n",
       "                     ('live', True),\n",
       "                     ('has_unpublished_changes', False),\n",
       "                     ('url_path',\n",
       "                      '/home/sager-electronics/solid-polymer-aluminum-surface-mount-capacitors/'),\n",
       "                     ('owner', 4),\n",
       "                     ('seo_title', ''),\n",
       "                     ('show_in_menus', False),\n",
       "                     ('search_description', ''),\n",
       "                     ('go_live_at', None),\n",
       "                     ('expire_at', None),\n",
       "                     ('expired', False),\n",
       "                     ('locked', False),\n",
       "                     ('first_published_at',\n",
       "                      datetime.datetime(2018, 5, 28, 1, 56, 40, 704645, tzinfo=<UTC>)),\n",
       "                     ('last_published_at',\n",
       "                      datetime.datetime(2018, 5, 30, 4, 15, 52, 739036, tzinfo=<UTC>)),\n",
       "                     ('latest_revision_created_at',\n",
       "                      datetime.datetime(2018, 5, 30, 4, 15, 52, 713800, tzinfo=<UTC>)),\n",
       "                     ('live_revision', 198)]),\n",
       "        'id': 33},\n",
       "       {'data': OrderedDict([('title', '25 Watt Enclosed Power Supply'),\n",
       "                     ('draft_title', '25 Watt Enclosed Power Supply'),\n",
       "                     ('slug', '25-watt-enclosed-power-supply'),\n",
       "                     ('content_type', 52),\n",
       "                     ('live', True),\n",
       "                     ('has_unpublished_changes', False),\n",
       "                     ('url_path',\n",
       "                      '/home/sager-electronics/25-watt-enclosed-power-supply/'),\n",
       "                     ('owner', 4),\n",
       "                     ('seo_title', ''),\n",
       "                     ('show_in_menus', False),\n",
       "                     ('search_description', ''),\n",
       "                     ('go_live_at', None),\n",
       "                     ('expire_at', None),\n",
       "                     ('expired', False),\n",
       "                     ('locked', False),\n",
       "                     ('first_published_at',\n",
       "                      datetime.datetime(2018, 5, 30, 4, 26, 40, 765055, tzinfo=<UTC>)),\n",
       "                     ('last_published_at',\n",
       "                      datetime.datetime(2018, 6, 1, 2, 47, 43, 755587, tzinfo=<UTC>)),\n",
       "                     ('latest_revision_created_at',\n",
       "                      datetime.datetime(2018, 6, 1, 2, 47, 43, 720267, tzinfo=<UTC>)),\n",
       "                     ('live_revision', 229)]),\n",
       "        'id': 34}]},\n",
       "     {'data': OrderedDict([('title', 'Avnet'),\n",
       "                   ('draft_title', 'Avnet'),\n",
       "                   ('slug', 'avnet'),\n",
       "                   ('content_type', 54),\n",
       "                   ('live', True),\n",
       "                   ('has_unpublished_changes', False),\n",
       "                   ('url_path', '/home/avnet/'),\n",
       "                   ('owner', 1),\n",
       "                   ('seo_title', ''),\n",
       "                   ('show_in_menus', False),\n",
       "                   ('search_description', ''),\n",
       "                   ('go_live_at', None),\n",
       "                   ('expire_at', None),\n",
       "                   ('expired', False),\n",
       "                   ('locked', False),\n",
       "                   ('first_published_at',\n",
       "                    datetime.datetime(2018, 5, 21, 15, 42, 6, 474661, tzinfo=<UTC>)),\n",
       "                   ('last_published_at',\n",
       "                    datetime.datetime(2018, 5, 21, 15, 42, 6, 474661, tzinfo=<UTC>)),\n",
       "                   ('latest_revision_created_at',\n",
       "                    datetime.datetime(2018, 5, 21, 15, 42, 6, 455659, tzinfo=<UTC>)),\n",
       "                   ('live_revision', 180)]),\n",
       "      'id': 28,\n",
       "      'children': [{'data': OrderedDict([('title',\n",
       "                      '18VPP OUTPUT PIEZO SOUNDER DRIVER'),\n",
       "                     ('draft_title', '18VPP OUTPUT PIEZO SOUNDER DRIVER'),\n",
       "                     ('slug', '18vpp-output-piezo-sounder-driver'),\n",
       "                     ('content_type', 56),\n",
       "                     ('live', True),\n",
       "                     ('has_unpublished_changes', False),\n",
       "                     ('url_path',\n",
       "                      '/home/avnet/18vpp-output-piezo-sounder-driver/'),\n",
       "                     ('owner', 4),\n",
       "                     ('seo_title', ''),\n",
       "                     ('show_in_menus', False),\n",
       "                     ('search_description', ''),\n",
       "                     ('go_live_at', None),\n",
       "                     ('expire_at', None),\n",
       "                     ('expired', False),\n",
       "                     ('locked', False),\n",
       "                     ('first_published_at',\n",
       "                      datetime.datetime(2018, 6, 12, 3, 33, 12, 899885, tzinfo=<UTC>)),\n",
       "                     ('last_published_at',\n",
       "                      datetime.datetime(2018, 6, 12, 4, 22, 23, 949690, tzinfo=<UTC>)),\n",
       "                     ('latest_revision_created_at',\n",
       "                      datetime.datetime(2018, 6, 12, 4, 22, 23, 926926, tzinfo=<UTC>)),\n",
       "                     ('live_revision', 243)]),\n",
       "        'id': 36}]},\n",
       "     {'data': OrderedDict([('title', 'On Semiconductor'),\n",
       "                   ('draft_title', 'On Semiconductor'),\n",
       "                   ('slug', 'semiconductor'),\n",
       "                   ('content_type', 60),\n",
       "                   ('live', True),\n",
       "                   ('has_unpublished_changes', False),\n",
       "                   ('url_path', '/home/semiconductor/'),\n",
       "                   ('owner', 1),\n",
       "                   ('seo_title', ''),\n",
       "                   ('show_in_menus', False),\n",
       "                   ('search_description', ''),\n",
       "                   ('go_live_at', None),\n",
       "                   ('expire_at', None),\n",
       "                   ('expired', False),\n",
       "                   ('locked', False),\n",
       "                   ('first_published_at',\n",
       "                    datetime.datetime(2018, 5, 23, 0, 51, 52, 141739, tzinfo=<UTC>)),\n",
       "                   ('last_published_at',\n",
       "                    datetime.datetime(2018, 5, 29, 15, 42, 56, 796137, tzinfo=<UTC>)),\n",
       "                   ('latest_revision_created_at',\n",
       "                    datetime.datetime(2018, 5, 29, 15, 42, 56, 771756, tzinfo=<UTC>)),\n",
       "                   ('live_revision', 192)]),\n",
       "      'id': 30,\n",
       "      'children': [{'data': OrderedDict([('title', 'High-Dynamic Range (HDR)'),\n",
       "                     ('draft_title', 'High-Dynamic Range (HDR)'),\n",
       "                     ('slug', 'high-dynamic-range-hdr'),\n",
       "                     ('content_type', 61),\n",
       "                     ('live', True),\n",
       "                     ('has_unpublished_changes', False),\n",
       "                     ('url_path',\n",
       "                      '/home/semiconductor/high-dynamic-range-hdr/'),\n",
       "                     ('owner', 4),\n",
       "                     ('seo_title', ''),\n",
       "                     ('show_in_menus', False),\n",
       "                     ('search_description', ''),\n",
       "                     ('go_live_at', None),\n",
       "                     ('expire_at', None),\n",
       "                     ('expired', False),\n",
       "                     ('locked', False),\n",
       "                     ('first_published_at',\n",
       "                      datetime.datetime(2018, 5, 23, 4, 34, 36, 399859, tzinfo=<UTC>)),\n",
       "                     ('last_published_at',\n",
       "                      datetime.datetime(2018, 6, 12, 2, 25, 36, 422869, tzinfo=<UTC>)),\n",
       "                     ('latest_revision_created_at',\n",
       "                      datetime.datetime(2018, 6, 12, 2, 25, 36, 392834, tzinfo=<UTC>)),\n",
       "                     ('live_revision', 239)]),\n",
       "        'id': 32}]},\n",
       "     {'data': OrderedDict([('title', 'TDK Epcos'),\n",
       "                   ('draft_title', 'TDK Epcos'),\n",
       "                   ('slug', 'tdk-epcos'),\n",
       "                   ('content_type', 62),\n",
       "                   ('live', True),\n",
       "                   ('has_unpublished_changes', False),\n",
       "                   ('url_path', '/home/tdk-epcos/'),\n",
       "                   ('owner', 1),\n",
       "                   ('seo_title', ''),\n",
       "                   ('show_in_menus', False),\n",
       "                   ('search_description', ''),\n",
       "                   ('go_live_at', None),\n",
       "                   ('expire_at', None),\n",
       "                   ('expired', False),\n",
       "                   ('locked', False),\n",
       "                   ('first_published_at',\n",
       "                    datetime.datetime(2018, 5, 23, 2, 59, 43, 328185, tzinfo=<UTC>)),\n",
       "                   ('last_published_at',\n",
       "                    datetime.datetime(2018, 5, 23, 2, 59, 43, 328185, tzinfo=<UTC>)),\n",
       "                   ('latest_revision_created_at',\n",
       "                    datetime.datetime(2018, 5, 23, 2, 59, 43, 305280, tzinfo=<UTC>)),\n",
       "                   ('live_revision', 183)]),\n",
       "      'id': 31,\n",
       "      'children': [{'data': OrderedDict([('title', 'CeraLink'),\n",
       "                     ('draft_title', 'CeraLink'),\n",
       "                     ('slug', 'ceralink'),\n",
       "                     ('content_type', 64),\n",
       "                     ('live', True),\n",
       "                     ('has_unpublished_changes', False),\n",
       "                     ('url_path', '/home/tdk-epcos/ceralink/'),\n",
       "                     ('owner', 1),\n",
       "                     ('seo_title', ''),\n",
       "                     ('show_in_menus', False),\n",
       "                     ('search_description', ''),\n",
       "                     ('go_live_at', None),\n",
       "                     ('expire_at', None),\n",
       "                     ('expired', False),\n",
       "                     ('locked', False),\n",
       "                     ('first_published_at',\n",
       "                      datetime.datetime(2018, 5, 31, 23, 32, 22, 251305, tzinfo=<UTC>)),\n",
       "                     ('last_published_at',\n",
       "                      datetime.datetime(2018, 6, 23, 1, 24, 35, 182986, tzinfo=<UTC>)),\n",
       "                     ('latest_revision_created_at',\n",
       "                      datetime.datetime(2018, 6, 23, 1, 24, 35, 153946, tzinfo=<UTC>)),\n",
       "                     ('live_revision', 247)]),\n",
       "        'id': 35}]},\n",
       "     {'data': OrderedDict([('title', 'Microchip'),\n",
       "                   ('draft_title', 'Microchip'),\n",
       "                   ('slug', 'microchip'),\n",
       "                   ('content_type', 66),\n",
       "                   ('live', True),\n",
       "                   ('has_unpublished_changes', False),\n",
       "                   ('url_path', '/home/microchip/'),\n",
       "                   ('owner', 1),\n",
       "                   ('seo_title', ''),\n",
       "                   ('show_in_menus', False),\n",
       "                   ('search_description', ''),\n",
       "                   ('go_live_at', None),\n",
       "                   ('expire_at', None),\n",
       "                   ('expired', False),\n",
       "                   ('locked', False),\n",
       "                   ('first_published_at',\n",
       "                    datetime.datetime(2018, 7, 3, 0, 37, 15, 238081, tzinfo=<UTC>)),\n",
       "                   ('last_published_at',\n",
       "                    datetime.datetime(2018, 7, 3, 0, 37, 15, 238081, tzinfo=<UTC>)),\n",
       "                   ('latest_revision_created_at',\n",
       "                    datetime.datetime(2018, 7, 3, 0, 37, 15, 219782, tzinfo=<UTC>)),\n",
       "                   ('live_revision', 248)]),\n",
       "      'id': 37,\n",
       "      'children': [{'data': OrderedDict([('title',\n",
       "                      'dsPIC33CH128MP508 Family R2'),\n",
       "                     ('draft_title', 'dsPIC33CH128MP508 Family R2'),\n",
       "                     ('slug', 'dspic33ch128mp508-family-r2'),\n",
       "                     ('content_type', 68),\n",
       "                     ('live', True),\n",
       "                     ('has_unpublished_changes', False),\n",
       "                     ('url_path',\n",
       "                      '/home/microchip/dspic33ch128mp508-family-r2/'),\n",
       "                     ('owner', 1),\n",
       "                     ('seo_title', ''),\n",
       "                     ('show_in_menus', False),\n",
       "                     ('search_description', ''),\n",
       "                     ('go_live_at', None),\n",
       "                     ('expire_at', None),\n",
       "                     ('expired', False),\n",
       "                     ('locked', False),\n",
       "                     ('first_published_at',\n",
       "                      datetime.datetime(2018, 7, 3, 0, 53, 30, 568172, tzinfo=<UTC>)),\n",
       "                     ('last_published_at',\n",
       "                      datetime.datetime(2018, 7, 11, 5, 19, 25, 348461, tzinfo=<UTC>)),\n",
       "                     ('latest_revision_created_at',\n",
       "                      datetime.datetime(2018, 7, 11, 5, 19, 24, 569413, tzinfo=<UTC>)),\n",
       "                     ('live_revision', 271)]),\n",
       "        'id': 39,\n",
       "        'children': [{'data': OrderedDict([('title', '4.0 Slave Modules'),\n",
       "                       ('draft_title', '4.0 Slave Modules'),\n",
       "                       ('slug', 'sub-sheet-page'),\n",
       "                       ('content_type', 70),\n",
       "                       ('live', True),\n",
       "                       ('has_unpublished_changes', False),\n",
       "                       ('url_path',\n",
       "                        '/home/microchip/dspic33ch128mp508-family-r2/sub-sheet-page/'),\n",
       "                       ('owner', 1),\n",
       "                       ('seo_title', ''),\n",
       "                       ('show_in_menus', False),\n",
       "                       ('search_description', ''),\n",
       "                       ('go_live_at',\n",
       "                        datetime.datetime(2018, 7, 2, 21, 21, tzinfo=<UTC>)),\n",
       "                       ('expire_at', None),\n",
       "                       ('expired', False),\n",
       "                       ('locked', False),\n",
       "                       ('first_published_at',\n",
       "                        datetime.datetime(2018, 7, 3, 3, 21, 53, 677648, tzinfo=<UTC>)),\n",
       "                       ('last_published_at',\n",
       "                        datetime.datetime(2018, 7, 13, 2, 34, 35, 370648, tzinfo=<UTC>)),\n",
       "                       ('latest_revision_created_at',\n",
       "                        datetime.datetime(2018, 7, 13, 2, 34, 34, 583526, tzinfo=<UTC>)),\n",
       "                       ('live_revision', 276)]),\n",
       "          'id': 40},\n",
       "         {'data': OrderedDict([('title', '3.0 Master Modules'),\n",
       "                       ('draft_title', '3.0 Master Modules'),\n",
       "                       ('slug', 'master-modules'),\n",
       "                       ('content_type', 70),\n",
       "                       ('live', True),\n",
       "                       ('has_unpublished_changes', False),\n",
       "                       ('url_path',\n",
       "                        '/home/microchip/dspic33ch128mp508-family-r2/master-modules/'),\n",
       "                       ('owner', 1),\n",
       "                       ('seo_title', ''),\n",
       "                       ('show_in_menus', False),\n",
       "                       ('search_description', ''),\n",
       "                       ('go_live_at', None),\n",
       "                       ('expire_at', None),\n",
       "                       ('expired', False),\n",
       "                       ('locked', False),\n",
       "                       ('first_published_at',\n",
       "                        datetime.datetime(2018, 7, 3, 3, 24, 20, 162954, tzinfo=<UTC>)),\n",
       "                       ('last_published_at',\n",
       "                        datetime.datetime(2018, 7, 13, 2, 24, 31, 613517, tzinfo=<UTC>)),\n",
       "                       ('latest_revision_created_at',\n",
       "                        datetime.datetime(2018, 7, 13, 2, 24, 30, 780692, tzinfo=<UTC>)),\n",
       "                       ('live_revision', 273)]),\n",
       "          'id': 41,\n",
       "          'children': [{'data': OrderedDict([('title', 'Master CPU'),\n",
       "                         ('draft_title', 'Master CPU'),\n",
       "                         ('slug', 'product-families'),\n",
       "                         ('content_type', 70),\n",
       "                         ('live', True),\n",
       "                         ('has_unpublished_changes', False),\n",
       "                         ('url_path',\n",
       "                          '/home/microchip/dspic33ch128mp508-family-r2/master-modules/product-families/'),\n",
       "                         ('owner', 1),\n",
       "                         ('seo_title', ''),\n",
       "                         ('show_in_menus', False),\n",
       "                         ('search_description', ''),\n",
       "                         ('go_live_at', None),\n",
       "                         ('expire_at', None),\n",
       "                         ('expired', False),\n",
       "                         ('locked', False),\n",
       "                         ('first_published_at',\n",
       "                          datetime.datetime(2018, 7, 5, 21, 14, 9, 84212, tzinfo=<UTC>)),\n",
       "                         ('last_published_at',\n",
       "                          datetime.datetime(2018, 7, 13, 2, 33, 22, 948901, tzinfo=<UTC>)),\n",
       "                         ('latest_revision_created_at',\n",
       "                          datetime.datetime(2018, 7, 13, 2, 33, 22, 376514, tzinfo=<UTC>)),\n",
       "                         ('live_revision', 274)]),\n",
       "            'id': 42,\n",
       "            'children': [{'data': OrderedDict([('title', 'Registers'),\n",
       "                           ('draft_title', 'Registers'),\n",
       "                           ('slug', 'registers'),\n",
       "                           ('content_type', 70),\n",
       "                           ('live', True),\n",
       "                           ('has_unpublished_changes', False),\n",
       "                           ('url_path',\n",
       "                            '/home/microchip/dspic33ch128mp508-family-r2/master-modules/product-families/registers/'),\n",
       "                           ('owner', 1),\n",
       "                           ('seo_title', ''),\n",
       "                           ('show_in_menus', False),\n",
       "                           ('search_description', ''),\n",
       "                           ('go_live_at', None),\n",
       "                           ('expire_at', None),\n",
       "                           ('expired', False),\n",
       "                           ('locked', False),\n",
       "                           ('first_published_at',\n",
       "                            datetime.datetime(2018, 7, 13, 2, 33, 46, 687015, tzinfo=<UTC>)),\n",
       "                           ('last_published_at',\n",
       "                            datetime.datetime(2018, 7, 13, 2, 33, 46, 687015, tzinfo=<UTC>)),\n",
       "                           ('latest_revision_created_at',\n",
       "                            datetime.datetime(2018, 7, 13, 2, 33, 45, 943486, tzinfo=<UTC>)),\n",
       "                           ('live_revision', 275)]),\n",
       "              'id': 52}]}]},\n",
       "         {'data': OrderedDict([('title', '1.0 Device Overview'),\n",
       "                       ('draft_title', '1.0 Device Overview'),\n",
       "                       ('slug', 'device-overview'),\n",
       "                       ('content_type', 70),\n",
       "                       ('live', True),\n",
       "                       ('has_unpublished_changes', False),\n",
       "                       ('url_path',\n",
       "                        '/home/microchip/dspic33ch128mp508-family-r2/device-overview/'),\n",
       "                       ('owner', 1),\n",
       "                       ('seo_title', ''),\n",
       "                       ('show_in_menus', False),\n",
       "                       ('search_description', ''),\n",
       "                       ('go_live_at', None),\n",
       "                       ('expire_at', None),\n",
       "                       ('expired', False),\n",
       "                       ('locked', False),\n",
       "                       ('first_published_at',\n",
       "                        datetime.datetime(2018, 7, 11, 4, 38, 17, 340730, tzinfo=<UTC>)),\n",
       "                       ('last_published_at',\n",
       "                        datetime.datetime(2018, 7, 13, 2, 35, 26, 491071, tzinfo=<UTC>)),\n",
       "                       ('latest_revision_created_at',\n",
       "                        datetime.datetime(2018, 7, 13, 2, 35, 25, 882707, tzinfo=<UTC>)),\n",
       "                       ('live_revision', 278)]),\n",
       "          'id': 45},\n",
       "         {'data': OrderedDict([('title',\n",
       "                        '2.0 Guidelines for Getting Started with 16-Bit Digital Signal Controllers'),\n",
       "                       ('draft_title',\n",
       "                        '2.0 Guidelines for Getting Started with 16-Bit Digital Signal Controllers'),\n",
       "                       ('slug',\n",
       "                        'guidelines-getting-started-16-bit-digital-signal-controllers'),\n",
       "                       ('content_type', 70),\n",
       "                       ('live', True),\n",
       "                       ('has_unpublished_changes', False),\n",
       "                       ('url_path',\n",
       "                        '/home/microchip/dspic33ch128mp508-family-r2/guidelines-getting-started-16-bit-digital-signal-controllers/'),\n",
       "                       ('owner', 1),\n",
       "                       ('seo_title', ''),\n",
       "                       ('show_in_menus', False),\n",
       "                       ('search_description', ''),\n",
       "                       ('go_live_at', None),\n",
       "                       ('expire_at', None),\n",
       "                       ('expired', False),\n",
       "                       ('locked', False),\n",
       "                       ('first_published_at',\n",
       "                        datetime.datetime(2018, 7, 11, 4, 39, 28, 990594, tzinfo=<UTC>)),\n",
       "                       ('last_published_at',\n",
       "                        datetime.datetime(2018, 7, 13, 2, 34, 53, 46378, tzinfo=<UTC>)),\n",
       "                       ('latest_revision_created_at',\n",
       "                        datetime.datetime(2018, 7, 13, 2, 34, 52, 326338, tzinfo=<UTC>)),\n",
       "                       ('live_revision', 277)]),\n",
       "          'id': 46,\n",
       "          'children': [{'data': OrderedDict([('title',\n",
       "                          '2.1 Basic Connection Requirements'),\n",
       "                         ('draft_title', '2.1 Basic Connection Requirements'),\n",
       "                         ('slug', '21-basic-connection-requirements'),\n",
       "                         ('content_type', 70),\n",
       "                         ('live', True),\n",
       "                         ('has_unpublished_changes', False),\n",
       "                         ('url_path',\n",
       "                          '/home/microchip/dspic33ch128mp508-family-r2/guidelines-getting-started-16-bit-digital-signal-controllers/21-basic-connection-requirements/'),\n",
       "                         ('owner', 1),\n",
       "                         ('seo_title', ''),\n",
       "                         ('show_in_menus', False),\n",
       "                         ('search_description', ''),\n",
       "                         ('go_live_at', None),\n",
       "                         ('expire_at', None),\n",
       "                         ('expired', False),\n",
       "                         ('locked', False),\n",
       "                         ('first_published_at',\n",
       "                          datetime.datetime(2018, 7, 11, 5, 9, 15, 300947, tzinfo=<UTC>)),\n",
       "                         ('last_published_at',\n",
       "                          datetime.datetime(2018, 7, 11, 5, 9, 15, 300947, tzinfo=<UTC>)),\n",
       "                         ('latest_revision_created_at',\n",
       "                          datetime.datetime(2018, 7, 11, 5, 9, 14, 871411, tzinfo=<UTC>)),\n",
       "                         ('live_revision', 266)]),\n",
       "            'id': 47},\n",
       "           {'data': OrderedDict([('title', '2.2 Decoupling Capacitors'),\n",
       "                         ('draft_title', '2.2 Decoupling Capacitors'),\n",
       "                         ('slug', '22-decoupling-capacitors'),\n",
       "                         ('content_type', 70),\n",
       "                         ('live', True),\n",
       "                         ('has_unpublished_changes', False),\n",
       "                         ('url_path',\n",
       "                          '/home/microchip/dspic33ch128mp508-family-r2/guidelines-getting-started-16-bit-digital-signal-controllers/22-decoupling-capacitors/'),\n",
       "                         ('owner', 1),\n",
       "                         ('seo_title', ''),\n",
       "                         ('show_in_menus', False),\n",
       "                         ('search_description', ''),\n",
       "                         ('go_live_at', None),\n",
       "                         ('expire_at', None),\n",
       "                         ('expired', False),\n",
       "                         ('locked', False),\n",
       "                         ('first_published_at',\n",
       "                          datetime.datetime(2018, 7, 11, 5, 9, 36, 845566, tzinfo=<UTC>)),\n",
       "                         ('last_published_at',\n",
       "                          datetime.datetime(2018, 7, 11, 5, 9, 36, 845566, tzinfo=<UTC>)),\n",
       "                         ('latest_revision_created_at',\n",
       "                          datetime.datetime(2018, 7, 11, 5, 9, 36, 433738, tzinfo=<UTC>)),\n",
       "                         ('live_revision', 267)]),\n",
       "            'id': 48},\n",
       "           {'data': OrderedDict([('title', '2.3 Master Clear (MCLR) Pin'),\n",
       "                         ('draft_title', '2.3 Master Clear (MCLR) Pin'),\n",
       "                         ('slug', '23-master-clear-mclr-pin'),\n",
       "                         ('content_type', 70),\n",
       "                         ('live', True),\n",
       "                         ('has_unpublished_changes', False),\n",
       "                         ('url_path',\n",
       "                          '/home/microchip/dspic33ch128mp508-family-r2/guidelines-getting-started-16-bit-digital-signal-controllers/23-master-clear-mclr-pin/'),\n",
       "                         ('owner', 1),\n",
       "                         ('seo_title', ''),\n",
       "                         ('show_in_menus', False),\n",
       "                         ('search_description', ''),\n",
       "                         ('go_live_at', None),\n",
       "                         ('expire_at', None),\n",
       "                         ('expired', False),\n",
       "                         ('locked', False),\n",
       "                         ('first_published_at',\n",
       "                          datetime.datetime(2018, 7, 11, 5, 9, 54, 869758, tzinfo=<UTC>)),\n",
       "                         ('last_published_at',\n",
       "                          datetime.datetime(2018, 7, 11, 5, 9, 54, 869758, tzinfo=<UTC>)),\n",
       "                         ('latest_revision_created_at',\n",
       "                          datetime.datetime(2018, 7, 11, 5, 9, 54, 286345, tzinfo=<UTC>)),\n",
       "                         ('live_revision', 268)]),\n",
       "            'id': 49},\n",
       "           {'data': OrderedDict([('title', '2.4 ICSP Pins'),\n",
       "                         ('draft_title', '2.4 ICSP Pins'),\n",
       "                         ('slug', '24-icsp-pins'),\n",
       "                         ('content_type', 70),\n",
       "                         ('live', True),\n",
       "                         ('has_unpublished_changes', False),\n",
       "                         ('url_path',\n",
       "                          '/home/microchip/dspic33ch128mp508-family-r2/guidelines-getting-started-16-bit-digital-signal-controllers/24-icsp-pins/'),\n",
       "                         ('owner', 1),\n",
       "                         ('seo_title', ''),\n",
       "                         ('show_in_menus', False),\n",
       "                         ('search_description', ''),\n",
       "                         ('go_live_at', None),\n",
       "                         ('expire_at', None),\n",
       "                         ('expired', False),\n",
       "                         ('locked', False),\n",
       "                         ('first_published_at',\n",
       "                          datetime.datetime(2018, 7, 11, 5, 10, 11, 654278, tzinfo=<UTC>)),\n",
       "                         ('last_published_at',\n",
       "                          datetime.datetime(2018, 7, 11, 5, 10, 11, 654278, tzinfo=<UTC>)),\n",
       "                         ('latest_revision_created_at',\n",
       "                          datetime.datetime(2018, 7, 11, 5, 10, 11, 186512, tzinfo=<UTC>)),\n",
       "                         ('live_revision', 269)]),\n",
       "            'id': 50},\n",
       "           {'data': OrderedDict([('title', 'External Oscillator Pins'),\n",
       "                         ('draft_title', 'External Oscillator Pins'),\n",
       "                         ('slug', 'external-oscillator-pins'),\n",
       "                         ('content_type', 70),\n",
       "                         ('live', True),\n",
       "                         ('has_unpublished_changes', False),\n",
       "                         ('url_path',\n",
       "                          '/home/microchip/dspic33ch128mp508-family-r2/guidelines-getting-started-16-bit-digital-signal-controllers/external-oscillator-pins/'),\n",
       "                         ('owner', None),\n",
       "                         ('seo_title', ''),\n",
       "                         ('show_in_menus', False),\n",
       "                         ('search_description', ''),\n",
       "                         ('go_live_at', None),\n",
       "                         ('expire_at', None),\n",
       "                         ('expired', False),\n",
       "                         ('locked', False),\n",
       "                         ('first_published_at', None),\n",
       "                         ('last_published_at', None),\n",
       "                         ('latest_revision_created_at', None),\n",
       "                         ('live_revision', None)]),\n",
       "            'id': 53},\n",
       "           {'data': OrderedDict([('title',\n",
       "                          '2.6 Oscillator Value Conditions on Device Start-up'),\n",
       "                         ('draft_title',\n",
       "                          '2.6 Oscillator Value Conditions on Device Start-up'),\n",
       "                         ('slug',\n",
       "                          '26-oscillator-value-conditions-on-device-start-up'),\n",
       "                         ('content_type', 70),\n",
       "                         ('live', True),\n",
       "                         ('has_unpublished_changes', False),\n",
       "                         ('url_path',\n",
       "                          '/home/microchip/dspic33ch128mp508-family-r2/guidelines-getting-started-16-bit-digital-signal-controllers/26-oscillator-value-conditions-on-device-start-up/'),\n",
       "                         ('owner', None),\n",
       "                         ('seo_title', ''),\n",
       "                         ('show_in_menus', False),\n",
       "                         ('search_description', ''),\n",
       "                         ('go_live_at', None),\n",
       "                         ('expire_at', None),\n",
       "                         ('expired', False),\n",
       "                         ('locked', False),\n",
       "                         ('first_published_at', None),\n",
       "                         ('last_published_at', None),\n",
       "                         ('latest_revision_created_at', None),\n",
       "                         ('live_revision', None)]),\n",
       "            'id': 54}]}]},\n",
       "       {'data': OrderedDict([('title', 'dsPIC33CH128MP508 Family'),\n",
       "                     ('draft_title', 'dsPIC33CH128MP508 Family'),\n",
       "                     ('slug', 'dspic33ch128mp508-family-r1'),\n",
       "                     ('content_type', 68),\n",
       "                     ('live', True),\n",
       "                     ('has_unpublished_changes', False),\n",
       "                     ('url_path',\n",
       "                      '/home/microchip/dspic33ch128mp508-family-r1/'),\n",
       "                     ('owner', 1),\n",
       "                     ('seo_title', ''),\n",
       "                     ('show_in_menus', False),\n",
       "                     ('search_description', ''),\n",
       "                     ('go_live_at', None),\n",
       "                     ('expire_at', None),\n",
       "                     ('expired', False),\n",
       "                     ('locked', False),\n",
       "                     ('first_published_at',\n",
       "                      datetime.datetime(2018, 7, 11, 4, 1, 45, 408181, tzinfo=<UTC>)),\n",
       "                     ('last_published_at',\n",
       "                      datetime.datetime(2018, 7, 11, 5, 19, 8, 104761, tzinfo=<UTC>)),\n",
       "                     ('latest_revision_created_at',\n",
       "                      datetime.datetime(2018, 7, 11, 5, 19, 7, 527244, tzinfo=<UTC>)),\n",
       "                     ('live_revision', 270)]),\n",
       "        'id': 44}]}]}]}]"
      ]
     },
     "execution_count": 23,
     "metadata": {},
     "output_type": "execute_result"
    }
   ],
   "source": [
    "ds.dump_bulk()"
   ]
  },
  {
   "cell_type": "code",
   "execution_count": null,
   "metadata": {},
   "outputs": [],
   "source": []
  }
 ],
 "metadata": {
  "kernelspec": {
   "display_name": "Django Shell-Plus",
   "language": "python",
   "name": "django_extensions"
  },
  "language_info": {
   "codemirror_mode": {
    "name": "ipython",
    "version": 3
   },
   "file_extension": ".py",
   "mimetype": "text/x-python",
   "name": "python",
   "nbconvert_exporter": "python",
   "pygments_lexer": "ipython3",
   "version": "3.6.5"
  }
 },
 "nbformat": 4,
 "nbformat_minor": 2
}
